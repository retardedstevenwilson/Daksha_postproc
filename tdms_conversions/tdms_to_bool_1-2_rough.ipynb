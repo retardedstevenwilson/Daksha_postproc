{
 "cells": [
  {
   "cell_type": "code",
   "execution_count": 19,
   "metadata": {},
   "outputs": [
    {
     "name": "stdout",
     "output_type": "stream",
     "text": [
      "[<TdmsGroup with path /'Untitled'>]\n",
      "590000\n"
     ]
    }
   ],
   "source": [
    "\n",
    "# Program to read the .tdms file but by using booolean array and its function\n",
    "\n",
    "#**************** Read multiple pakts in tdms file (Should not use for single pkt data)**************************\n",
    "#pkt_size=39087\n",
    "# 10pkts in 1sec\n",
    "# total samples=390870 in 1 sec\n",
    "#********************************************\n",
    "\n",
    "import bitarray as bit\n",
    "#from operator import index\n",
    "from nptdms import TdmsFile\n",
    "import numpy as np\n",
    "import matplotlib.pyplot as plt\n",
    "from functools import reduce\n",
    "import pandas as pd\n",
    "\n",
    "# Define global constants below\n",
    "event_size=43 # Change nos. of bits in single event\n",
    "packet_size=129\n",
    "# change index[x], index[y] for single packet reading in line 161\n",
    "\n",
    "in_file_name=\"/home/ayushnema/Documents/work_DP2/tdms_conversions/Sandeep_files/TIFR_43bit_czt_pingpong_fcc_pingpong_23-9-2022_test7.tdms\"\n",
    "\n",
    "tdms_file = TdmsFile.read(in_file_name)\n",
    "with TdmsFile.open(in_file_name) as tdms_file:\n",
    "        group = tdms_file[\"Untitled\"]\n",
    "        all_groups = tdms_file.groups()\n",
    "        print (all_groups)\n",
    "\n",
    "        channel=group[\"Untitled\"]\n",
    "        all_group_channels = group.channels()\n",
    "        all_channel_data = channel[:]\n",
    "\n",
    "print(len(all_channel_data))\n"
   ]
  },
  {
   "cell_type": "code",
   "execution_count": 20,
   "metadata": {},
   "outputs": [
    {
     "name": "stdout",
     "output_type": "stream",
     "text": [
      "4573\n",
      "      timestamps  detid  pixid  pha\n",
      "0            0.0    0.0    0.0  0.0\n",
      "1            0.0    0.0    0.0  0.0\n",
      "2            0.0    0.0    0.0  0.0\n",
      "3            0.0    0.0    0.0  0.0\n",
      "4            0.0    0.0    0.0  0.0\n",
      "...          ...    ...    ...  ...\n",
      "4568         0.0    0.0    0.0  0.0\n",
      "4569         0.0    0.0    0.0  0.0\n",
      "4570         0.0    0.0    0.0  0.0\n",
      "4571         0.0    0.0    0.0  0.0\n",
      "4572         0.0    0.0    0.0  0.0\n",
      "\n",
      "[4573 rows x 4 columns]\n"
     ]
    }
   ],
   "source": [
    "\n",
    "total_full_packets=int(len(all_channel_data)/packet_size)\n",
    "print(total_full_packets)\n",
    "\n",
    "total_events=total_full_packets\n",
    "\n",
    "df=np.zeros((total_events,4))\n",
    "df = pd.DataFrame(df, columns =[\"timestamps\",\"detid\",\"pixid\",\"pha\"])\n",
    "print(df)"
   ]
  },
  {
   "cell_type": "code",
   "execution_count": 21,
   "metadata": {},
   "outputs": [
    {
     "name": "stdout",
     "output_type": "stream",
     "text": [
      "43\n",
      "       timestamps  detid  pixid    pha\n",
      "0       1022530.0   21.0  101.0  623.0\n",
      "1          2499.0   28.0  184.0  146.0\n",
      "2          2812.0   22.0   93.0  168.0\n",
      "3          2812.0   28.0  197.0  184.0\n",
      "4          2813.0    2.0   64.0  163.0\n",
      "...           ...    ...    ...    ...\n",
      "13715      1250.0    2.0   62.0  173.0\n",
      "13716      1250.0    9.0  133.0  227.0\n",
      "13717      1250.0   15.0   26.0  174.0\n",
      "13718      1250.0   22.0  128.0  198.0\n",
      "13719      1250.0   28.0   68.0  148.0\n",
      "\n",
      "[13720 rows x 4 columns]\n"
     ]
    }
   ],
   "source": [
    "header=all_channel_data[0:43]\n",
    "print(len(header))\n",
    "#event_count=0\n",
    "header_count=0\n",
    "\n",
    "\n",
    "for element_index in range(0,len(all_channel_data)-(len(all_channel_data)%43),43):    \n",
    "    event_elements=all_channel_data[element_index:element_index+43]\n",
    "    # print(event_elements)\n",
    "    #print(event_elements)\n",
    "    # print(header)\n",
    "    #print(event_elements)\n",
    "    event_no=int(element_index/43)\n",
    "\n",
    "    if (event_elements.all!=header).all():\n",
    "\n",
    "        timestamp_event=event_elements[0:20]\n",
    "        timestamp_event_str= ''.join(str(x) for x in timestamp_event)\n",
    "        timestamp_event_dec=int(timestamp_event_str, 2)\n",
    "        #print(timestamp_event_dec)\n",
    "        df.at[event_no, \"timestamps\"]= timestamp_event_dec\n",
    "\n",
    "        detID_event=event_elements[20:25]\n",
    "        detID_event_str=\"\".join(str(x) for x in detID_event)\n",
    "        detID_event_dec=int(detID_event_str, 2)\n",
    "        #print(detID_event)\n",
    "        df.at[event_no, \"detid\"] = detID_event_dec\n",
    "        \n",
    "        pixid_event=event_elements[25:33]\n",
    "        pixid_event_str=\"\".join(str(x) for x in pixid_event)\n",
    "        pixid_event_dec=int(pixid_event_str, 2)\n",
    "        df.at[event_no, \"pixid\"] =pixid_event_dec\n",
    "        \n",
    "        pha_event=event_elements[33:43]\n",
    "        pha_event_str=\"\".join(str(x) for x in pha_event)\n",
    "        pha_event_dec=int(pha_event_str, 2)\n",
    "        df.at[event_no, \"pha\"]=pha_event_dec\n",
    "\n",
    "    \n",
    "\n",
    "print(df)\n",
    "\n",
    "#print(all_channel_data)\n"
   ]
  },
  {
   "cell_type": "code",
   "execution_count": 22,
   "metadata": {},
   "outputs": [
    {
     "name": "stdout",
     "output_type": "stream",
     "text": [
      "43\n"
     ]
    }
   ],
   "source": [
    "print(len(event_elements))"
   ]
  },
  {
   "cell_type": "code",
   "execution_count": null,
   "metadata": {},
   "outputs": [],
   "source": []
  }
 ],
 "metadata": {
  "kernelspec": {
   "display_name": "Python 3.10.7 64-bit",
   "language": "python",
   "name": "python3"
  },
  "language_info": {
   "codemirror_mode": {
    "name": "ipython",
    "version": 3
   },
   "file_extension": ".py",
   "mimetype": "text/x-python",
   "name": "python",
   "nbconvert_exporter": "python",
   "pygments_lexer": "ipython3",
   "version": "3.10.7"
  },
  "orig_nbformat": 4,
  "vscode": {
   "interpreter": {
    "hash": "e7370f93d1d0cde622a1f8e1c04877d8463912d04d973331ad4851f04de6915a"
   }
  }
 },
 "nbformat": 4,
 "nbformat_minor": 2
}
